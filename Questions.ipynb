{
  "nbformat": 4,
  "nbformat_minor": 0,
  "metadata": {
    "colab": {
      "provenance": [],
      "authorship_tag": "ABX9TyOUnv3KxOJ4IWgezZu/jYOy",
      "include_colab_link": true
    },
    "kernelspec": {
      "name": "python3",
      "display_name": "Python 3"
    },
    "language_info": {
      "name": "python"
    }
  },
  "cells": [
    {
      "cell_type": "markdown",
      "metadata": {
        "id": "view-in-github",
        "colab_type": "text"
      },
      "source": [
        "<a href=\"https://colab.research.google.com/github/joooser/COMPRA-VENTA/blob/main/Questions.ipynb\" target=\"_parent\"><img src=\"https://colab.research.google.com/assets/colab-badge.svg\" alt=\"Open In Colab\"/></a>"
      ]
    },
    {
      "cell_type": "markdown",
      "source": [
        "\n",
        "\n",
        "> Establesco las variables de las preguntas\n",
        "\n"
      ],
      "metadata": {
        "id": "2CLywmzdSXfS"
      }
    },
    {
      "cell_type": "code",
      "execution_count": null,
      "metadata": {
        "id": "MfX6AhWB_hcr"
      },
      "outputs": [],
      "source": [
        "from IPython.display import HTML, display, clear_output\n",
        "from IPython.display import display, Javascript\n",
        "\n",
        "questions_seller = [\n",
        "    \"Cual es el nombre del vendedor?\",\n",
        "    \"Cual es la nacionalidad del vendedor?\",\n",
        "    \"Cual es la cedula del vendedor?\",\n",
        "    \"Cual es el estado civil del vendedor?\",\n",
        "    \"Cual es el domicilio del vendedor?\",\n",
        "    \"El vehiculo me pertenece en virtud de que documento?\",\n",
        "]\n",
        "\n",
        "questions_seller_a = [\n",
        "    \"Cual es el numero del titulo del vehiculo?\",\n",
        "    \"Cual es el numero de forma titulo del vehiculo?\",\n",
        "    \"De que fecha es el titulo?\"\n",
        "]\n",
        "\n",
        "questions_seller_b = [\n",
        "    \"Que notaria autentico el documento?\",\n",
        "    \"Bajo que numero quedo autenticado el el documento?\",\n",
        "    \"Bajo que tomo quedo autenticado el el documento?\",\n",
        "    \"en que fecha fue autenticado el documento?\"\n",
        "]\n",
        "\n",
        "questions_seller_c = [\n",
        "    \"Cual es el nombre del conyuge del vendedor?\",\n",
        "    \"Cual es la nacionalidad del conyuge del vendedor?\",\n",
        "    \"Cual es la cedula del conyuge del vendedor?\",\n",
        "    \"Cual es el domicilio conyuge del vendedor?\",\n",
        "]\n",
        "\n",
        "questions_buyer = [\n",
        "    \"Cual es el nombre del comprador?\",\n",
        "    \"Cual es la nacionalidad del comprador?\",\n",
        "    \"Cual es la cedula del comprador?\",\n",
        "    \"Cual es el estado civil del comprador?\",\n",
        "    \"Cual es el domicilio del comprador?\"\n",
        "]\n",
        "\n",
        "questions_car = [\n",
        "    \"Cual es la marca del vehiculo?\",\n",
        "    \"Cual es el modelo del vehiculo?\",\n",
        "    \"Cual es la placa del vehiculo?\",\n",
        "    \"Cual es el serial motor del vehiculo?\",\n",
        "    \"Cual es el serial de caroceria del vehiculo?\",\n",
        "    \"Cual es el año del vehiculo?\",\n",
        "    \"Cual es el tipo del vehiculo?\",\n",
        "    \"Cual es el color del vehiculo?\",\n",
        "    \"Cual es la clase del vehiculo?\",\n",
        "    \"Cual es el uso del vehiculo?\"\n",
        "\n",
        "]\n",
        "\n",
        "questions_transaction = [\n",
        "    \"Cual es el precio del vehiculo?\",\n",
        "    \"En que moneda se hizo el pago el vehiculo?\",\n",
        "    \"con que instrumento se pago el vehiculo?\"\n",
        "]\n",
        "\n",
        "documento = \"Yo, [questions_seller1], de nacionalidad [questions_seller2], mayor de edad, de estado civil [questions_seller4], domiciliado en [questions_seller5], y titular de la Cédula de Identidad No. [questions_seller3], por medio del presente documento expresamente declaro: Que doy en venta, pura y simple, perfecta e irrevocable a la ciudadana [questions_buyer1], de nacionalidad [questions_buyer2], mayor de edad, de estado civil [questions_buyer4], domiciliada en [questions_buyer5], titular de la Cédula de Identidad No.[questions_buyer3]., un vehículo de mi exclusiva propiedad, de las siguientes características: CLASE: [questions_car9]; MODELO: [questions_car2]; MARCA: [questions_car1]; AÑO: [questions_car6]; COLOR: [questions_car8]; USO: [questions_car10]; TIPO: [questions_car7]; SERIAL DEL MOTOR: [questions_car4]; SERIAL DE CARROCERÍA: [questions_car5]; PLACA DEL VEHÍCULO: [questions_car3]. El referido vehículo me pertenece según se evidencia de Certificado de Registro de Vehículo No. [questions_seller_a1], número de forma [questions_seller_a2] emanado del Instituto Nacional de Tránsito y Transporte Terrestre de fecha de emisión el [questions_seller_a3]., dicho vehículo se encuentra libre de gravámenes y nada debe por concepto de  impuestos nacionales, ni municipales. El precio de esta venta es por la cantidad de [questions_transaction1] [questions_transaction2], los cuales recibo en este acto, de manos del comprador mediante instrumento [questions_transaction3] girado contra BANESCO Banco Universal. Con el otorgamiento de este documento hago la tradición legal al comprador del bien vendido. Yo, [questions_buyer1], arriba identificada, declaro: Que acepto la venta que se me hace y en los términos anteriormente expuestos. En la ciudad de San Antonio de Los Altos, en la fecha de su otorgamiento. \\n\\n[questions_seller1]     \\n                  [questions_buyer1]\"\n",
        "\n",
        "\n",
        "### Tengo estas variables que son preguntas, quiero hacer un workflow con las preguntas: Primero hacer las preguntas de questions_seller,\n",
        "### cada pregunta tendra un input box, la ultima pregunta de questions_seller ( \"El vehiculo me pertenece en virtud de que documento?\") no tendra un input box sino una lista desplegable con dos opciones:\n",
        "### \"titulo del inttt\", \"documento notariado\", si la respuesta es \"titulo del inttt\" se haran las preguntas questions_seller_a, si la respuesta es \"documento notariado\" se haran las preguntas questions_seller_b, nunca ambos set de preguntas.\n",
        "### si a la pregunta ( \"Cual es el estado civil del vendedor?\") la respuesta es \"Casado\" se hacen las preguntas de question_seller_c, en cualquir otro caso no.\n",
        "### luego se haran las preguntas de questions_buyer, questions_car, questions_transactions.\n",
        "### cada respuesta se guardara con un nombre de variable: Por ejemplo: questions_seller1, questions_seller2 ,questions_seller3, etc\n",
        "### luego con cada respuesta se realizara un insert en el string documento"
      ]
    },
    {
      "cell_type": "code",
      "source": [
        "questions_seller = [\n",
        "    \"Cual es el nombre del vendedor?\",\n",
        "    \"Cual es la nacionalidad del vendedor?\",\n",
        "    \"Cual es la cedula del vendedor?\",\n",
        "    \"Cual es el estado civil del vendedor?\",\n",
        "    \"Cual es el domicilio del vendedor?\",\n",
        "]\n",
        "\n",
        "seller_answers = {}\n",
        "\n",
        "for question in questions_seller:\n",
        "    answer = input(question)\n",
        "    # Store the answer in the seller_answers dictionary\n",
        "    seller_answers[question] = answer\n",
        "\n",
        "# Handle the special case for the document type\n",
        "# Display a dropdown and save the answer\n",
        "document_type = input(\"El vehiculo me pertenece en virtud de que documento? (Elija 'titulo del inttt' o 'documento notariado')\")\n",
        "seller_answers[\"El vehiculo me pertenece en virtud de que documento?\"] = document_type\n",
        "\n",
        "if document_type == \"titulo del inttt\":\n",
        "    # Ask questions from questions_seller_a\n",
        "    questions_seller_a = [\n",
        "        \"Cual es el numero del titulo del vehiculo?\",\n",
        "        \"Cual es el numero de forma titulo del vehiculo?\",\n",
        "        \"De que fecha es el titulo?\"\n",
        "    ]\n",
        "    for question in questions_seller_a:\n",
        "        answer = input(question)\n",
        "        seller_answers[question] = answer\n",
        "else:\n",
        "    # Ask questions from questions_seller_b\n",
        "    questions_seller_b = [\n",
        "        \"Que notaria autentico el documento?\",\n",
        "        \"Bajo que numero quedo autenticado el documento?\",\n",
        "        \"Bajo que tomo quedo autenticado el documento?\",\n",
        "        \"En que fecha fue autenticado el documento?\"\n",
        "    ]\n",
        "    for question in questions_seller_b:\n",
        "        answer = input(question)\n",
        "        seller_answers[question] = answer\n",
        "\n",
        "# Check the state civil status of the seller\n",
        "civil_status = seller_answers[\"Cual es el estado civil del vendedor?\"]\n",
        "\n",
        "if civil_status == \"Casado\":\n",
        "    questions_seller_c = [\n",
        "        \"Cual es el nombre del conyuge del vendedor?\",\n",
        "        \"Cual es la nacionalidad del conyuge del vendedor?\",\n",
        "        \"Cual es la cedula del conyuge del vendedor?\",\n",
        "        \"Cual es el domicilio conyuge del vendedor?\",\n",
        "    ]\n",
        "\n",
        "    for question in questions_seller_c:\n",
        "        answer = input(question)\n",
        "        seller_answers[question] = answer\n"
      ],
      "metadata": {
        "id": "B_6eDmkPfVYB"
      },
      "execution_count": null,
      "outputs": []
    },
    {
      "cell_type": "code",
      "source": [
        "questions_buyer = [\n",
        "    \"Cual es el nombre del comprador?\",\n",
        "    \"Cual es la nacionalidad del comprador?\",\n",
        "    \"Cual es la cedula del comprador?\",\n",
        "    \"Cual es el estado civil del comprador?\",\n",
        "    \"Cual es el domicilio del comprador?\"\n",
        "]\n",
        "\n",
        "buyer_answers = {}\n",
        "\n",
        "for question in questions_buyer:\n",
        "    answer = input(question)\n",
        "    buyer_answers[question] = answer\n",
        "\n",
        "questions_car = [\n",
        "    \"Cual es la marca del vehiculo?\",\n",
        "    \"Cual es el modelo del vehiculo?\",\n",
        "    \"Cual es la placa del vehiculo?\",\n",
        "    \"Cual es el serial motor del vehiculo?\",\n",
        "    \"Cual es el serial de caroceria del vehiculo?\",\n",
        "    \"Cual es el año del vehiculo?\",\n",
        "    \"Cual es el tipo del vehiculo?\",\n",
        "    \"Cual es el color del vehiculo?\",\n",
        "    \"Cual es la clase del vehiculo?\",\n",
        "    \"Cual es el uso del vehiculo?\"\n",
        "]\n",
        "\n",
        "car_answers = {}\n",
        "\n",
        "for question in questions_car:\n",
        "    answer = input(question)\n",
        "    car_answers[question] = answer\n",
        "\n",
        "questions_transaction = [\n",
        "    \"Cual es el precio del vehiculo?\",\n",
        "    \"En que moneda se hizo el pago el vehiculo?\",\n",
        "    \"Con que instrumento se pago el vehiculo?\"\n",
        "]\n",
        "\n",
        "transaction_answers = {}\n",
        "\n",
        "for question in questions_transaction:\n",
        "    answer = input(question)\n",
        "    transaction_answers[question] = answer\n"
      ],
      "metadata": {
        "id": "uf_nElk1ay62"
      },
      "execution_count": null,
      "outputs": []
    },
    {
      "cell_type": "code",
      "source": [
        "# Replace placeholders in 'documento' with seller's answers\n",
        "documento = documento.replace(\"[questions_seller1]\", f\"{seller_answers['Cual es el nombre del vendedor?'].upper()}</b>\")\n",
        "documento = documento.replace(\"[questions_seller2]\", f\"{seller_answers['Cual es la nacionalidad del vendedor?'].upper()}</b>\")\n",
        "documento = documento.replace(\"[questions_seller3]\", f\"{seller_answers['Cual es la cedula del vendedor?'].upper()}</b>\")\n",
        "documento = documento.replace(\"[questions_seller4]\", f\"{seller_answers['Cual es el estado civil del vendedor?'].upper()}</b>\")\n",
        "documento = documento.replace(\"[questions_seller5]\", f\"{seller_answers['Cual es el domicilio del vendedor?'].upper()}</b>\")\n",
        "\n",
        "# Replace placeholders in 'documento' based on the document type\n",
        "document_type = seller_answers[\"El vehiculo me pertenece en virtud de que documento?\"]\n",
        "if document_type == \"titulo del inttt\":\n",
        "    documento = documento.replace(\"[questions_seller_a1]\", f\"{seller_answers['Cual es el numero del titulo del vehiculo?'].upper()}</b>\")\n",
        "    documento = documento.replace(\"[questions_seller_a2]\", f\"{seller_answers['Cual es el numero de forma titulo del vehiculo?'].upper()}</b>\")\n",
        "    documento = documento.replace(\"[questions_seller_a3]\", f\"{seller_answers['De que fecha es el titulo?'].upper()}</b>\")\n",
        "else:\n",
        "    documento = documento.replace(\"[questions_seller_b1]\", f\"{seller_answers['Que notaria autentico el documento?'].upper()}</b>\")\n",
        "    documento = documento.replace(\"[questions_seller_b2]\", f\"{seller_answers['Bajo que numero quedo autenticado el documento?'].upper()}</b>\")\n",
        "    documento = documento.replace(\"[questions_seller_b3]\", f\"{seller_answers['Bajo que tomo quedo autenticado el documento?'].upper()}</b>\")\n",
        "    documento = documento.replace(\"[questions_seller_b4]\", f\"{seller_answers['En que fecha fue autenticado el documento?'].upper()}</b>\")\n",
        "\n",
        "# Check the state civil status of the seller and replace placeholders if married\n",
        "civil_status = seller_answers[\"Cual es el estado civil del vendedor?\"]\n",
        "if civil_status == \"Casado\":\n",
        "    documento = documento.replace(\"[questions_seller_c1]\", f\"{seller_answers['Cual es el nombre del conyuge del vendedor?'].upper()}</b>\")\n",
        "    documento = documento.replace(\"[questions_seller_c2]\", f\"{seller_answers['Cual es la nacionalidad del conyuge del vendedor?'].upper()}</b>\")\n",
        "    documento = documento.replace(\"[questions_seller_c3]\", f\"{seller_answers['Cual es la cedula del conyuge del vendedor?'].upper()}</b>\")\n",
        "    documento = documento.replace(\"[questions_seller_c4]\", f\"{seller_answers['Cual es el domicilio conyuge del vendedor?'].upper()}</b>\")\n",
        "\n",
        "# Replace placeholders in 'documento' with buyer's answers\n",
        "documento = documento.replace(\"[questions_buyer1]\", f\"{buyer_answers['Cual es el nombre del comprador?'].upper()}</b>\")\n",
        "documento = documento.replace(\"[questions_buyer2]\", f\"{buyer_answers['Cual es la nacionalidad del comprador?'].upper()}</b>\")\n",
        "documento = documento.replace(\"[questions_buyer3]\", f\"{buyer_answers['Cual es la cedula del comprador?'].upper()}</b>\")\n",
        "documento = documento.replace(\"[questions_buyer4]\", f\"{buyer_answers['Cual es el estado civil del comprador?'].upper()}</b>\")\n",
        "documento = documento.replace(\"[questions_buyer5]\", f\"{buyer_answers['Cual es el domicilio del comprador?'].upper()}</b>\")\n",
        "\n",
        "# Replace placeholders in 'documento' with car details\n",
        "documento = documento.replace(\"[questions_car1]\", f\"{car_answers['Cual es la marca del vehiculo?'].upper()}</b>\")\n",
        "documento = documento.replace(\"[questions_car2]\", f\"{car_answers['Cual es el modelo del vehiculo?'].upper()}</b>\")\n",
        "documento = documento.replace(\"[questions_car3]\", f\"{car_answers['Cual es la placa del vehiculo?'].upper()}</b>\")\n",
        "documento = documento.replace(\"[questions_car4]\", f\"{car_answers['Cual es el serial motor del vehiculo?'].upper()}</b>\")\n",
        "documento = documento.replace(\"[questions_car5]\", f\"{car_answers['Cual es el serial de caroceria del vehiculo?'].upper()}</b>\")\n",
        "documento = documento.replace(\"[questions_car6]\", f\"{car_answers['Cual es el año del vehiculo?'].upper()}</b>\")\n",
        "documento = documento.replace(\"[questions_car7]\", f\"{car_answers['Cual es el tipo del vehiculo?'].upper()}</b>\")\n",
        "documento = documento.replace(\"[questions_car8]\", f\"{car_answers['Cual es el color del vehiculo?'].upper()}</b>\")\n",
        "documento = documento.replace(\"[questions_car9]\", f\"{car_answers['Cual es la clase del vehiculo?'].upper()}</b>\")\n",
        "documento = documento.replace(\"[questions_car10]\", f\"{car_answers['Cual es el uso del vehiculo?'].upper()}</b>\")\n",
        "\n",
        "# Replace placeholders in 'documento' with transaction details\n",
        "documento = documento.replace(\"[questions_transaction1]\", f\"{transaction_answers['Cual es el precio del vehiculo?'].upper()}</b>\")\n",
        "documento = documento.replace(\"[questions_transaction2]\", f\"{transaction_answers['En que moneda se hizo el pago el vehiculo?'].upper()}</b>\")\n",
        "documento = documento.replace(\"[questions_transaction3]\", f\"{transaction_answers['Con que instrumento se pago el vehiculo?'].upper()}</b>\")\n",
        "\n",
        "# Finally, print or display the 'documento' string with all the answers\n",
        "print(documento)\n"
      ],
      "metadata": {
        "colab": {
          "base_uri": "https://localhost:8080/"
        },
        "id": "4h4QrtMjbA6F",
        "outputId": "e1aaa7ef-7a3b-4610-b437-0c5df189f57e"
      },
      "execution_count": null,
      "outputs": [
        {
          "output_type": "stream",
          "name": "stdout",
          "text": [
            "Yo, <b>JOSE MANUEL RIVAS</b>, de nacionalidad <b>VENEZOLANO</b>, mayor de edad, de estado civil <b>SOLTERO</b>, domiciliado en <b>LOS TEQUES</b>, y titular de la Cédula de Identidad No. <b>17743716</b>, por medio del presente documento expresamente declaro: Que doy en venta, pura y simple, perfecta e irrevocable a la ciudadana <b>ROSALINDA DEL VALLE PICOTT MEDINA</b>, de nacionalidad <b>VENEZOLANA</b>, mayor de edad, de estado civil <b>SOLTERO</b>, domiciliada en <b>SAN ANTONIO DE LOS ALTOS</b>, titular de la Cédula de Identidad No.<b>17743716</b>., un vehículo de mi exclusiva propiedad, de las siguientes características: CLASE: <b>TECHOI DURO</b>; MODELO: <b>RECRO</b>; MARCA: <b>TOYOT</b>; AÑO: <b>1991</b>; COLOR: <b>ROJO</b>; USO: <b>PARTICULAR</b>; TIPO: <b>RUSTICO</b>; SERIAL DEL MOTOR: <b>8765392</b>; SERIAL DE CARROCERÍA: <b>TRESNDIGU</b>; PLACA DEL VEHÍCULO: <b>TYU675</b>. El referido vehículo me pertenece según se evidencia de Certificado de Registro de Vehículo No. <b>876543221</b>, número de forma <b>876543</b> emanado del Instituto Nacional de Tránsito y Transporte Terrestre de fecha de emisión el <b>20 NOVIEMBRE 2023</b>., dicho vehículo se encuentra libre de gravámenes y nada debe por concepto de impuestos nacionales, ni municipales. El precio de esta venta es por la cantidad de <b>7000</b> <b>USD</b>, los cuales recibo en este acto, de manos del comprador mediante instrumento <b>EFECTIVO</b> girado contra BANESCO Banco Universal. Con el otorgamiento de este documento hago la tradición legal al comprador del bien vendido. Yo, <b>ROSALINDA DEL VALLE PICOTT MEDINA</b>, arriba identificada, declaro: Que acepto la venta que se me hace y en los términos anteriormente expuestos. En la ciudad de San Antonio de Los Altos, en la fecha de su otorgamiento. <b>JOSE MANUEL RIVAS</b>     <b>ROSALINDA DEL VALLE PICOTT MEDINA</b>\n"
          ]
        }
      ]
    },
    {
      "cell_type": "code",
      "source": [
        "\n"
      ],
      "metadata": {
        "id": "cjfBRMmM3Y6d"
      },
      "execution_count": null,
      "outputs": []
    },
    {
      "cell_type": "code",
      "source": [],
      "metadata": {
        "id": "92_50XuF3cTy"
      },
      "execution_count": null,
      "outputs": []
    },
    {
      "cell_type": "markdown",
      "source": [
        "# Sección nueva"
      ],
      "metadata": {
        "id": "GhslCVQ14YoV"
      }
    }
  ]
}