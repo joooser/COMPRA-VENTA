{
 "cells": [
  {
   "cell_type": "code",
   "execution_count": 1,
   "id": "6e613232",
   "metadata": {},
   "outputs": [],
   "source": [
    "#bibliotecas a importar\n",
    "import keras_ocr as ocr\n",
    "import numpy as np\n",
    "import pytesseract\n",
    "import re\n",
    "from PIL import Image\n",
    "import cv2"
   ]
  },
  {
   "cell_type": "code",
   "execution_count": 2,
   "id": "8f6832e9-4ced-4f1c-9055-66db57ef4b7d",
   "metadata": {},
   "outputs": [],
   "source": [
    "#agrego artificialmente pytesseract al apth para que funcione el notebook\n",
    "pytesseract.pytesseract.tesseract_cmd = 'C:\\\\Program Files\\\\Tesseract-OCR\\\\tesseract.exe'"
   ]
  },
  {
   "cell_type": "code",
   "execution_count": 3,
   "id": "30b9d09b-b3c9-40b1-abb4-2467be9c13aa",
   "metadata": {},
   "outputs": [],
   "source": [
    "# Archivo de prueba. Es una foto de una cédula de identidad\n",
    "filename = 'C:/Users/Jose Manuel/Pictures/aaaa.png'"
   ]
  },
  {
   "cell_type": "code",
   "execution_count": 4,
   "id": "ac0ca0be-7a23-47b1-82ee-9551af4f185d",
   "metadata": {
    "scrolled": true
   },
   "outputs": [
    {
     "name": "stdout",
     "output_type": "stream",
     "text": [
      "REPUBLICA BOLIVARIANA DE VENEZUELA\n",
      "\n",
      "CEDULA DE IDENTIDA DY\n",
      "\n",
      "V 2.139.408 MM290\n",
      "jugo Cabezas\n",
      "svewwoos ALCALA COROTHIE Director\n",
      "nowanes LUIS ENRIQUE\n",
      "STS\n",
      "\n",
      "= —— 2\n",
      "\n",
      "11-01-41 CASADO\n",
      "\n",
      "F.NACIMIENTO EDO CIVIL\n",
      "\n",
      "P0508 04-2016\n",
      "\n",
      "VENEZOLANO\n",
      "\n",
      "\n"
     ]
    }
   ],
   "source": [
    "# Archivo de prueba. Es una foto de una cédula de identidad\n",
    "filename = 'C:/Users/Jose Manuel/Pictures/aaaa.png'\n",
    "\n",
    "# Leemos la imagen\n",
    "img = cv2.imread(filename)\n",
    "\n",
    "# Verificamos que la imagen se haya cargado correctamente\n",
    "if img is None:\n",
    "    print(\"Error al cargar la imagen\")\n",
    "else:\n",
    "\n",
    "    # Convertimos la imagen en escala de grises.\n",
    "    gray_img = cv2.cvtColor(img, cv2.COLOR_BGR2GRAY)\n",
    "\n",
    "    # Adaptamos el tamaño de la imagen para luego capturar los datos en las coordenadas que queremos.\n",
    "    resized_img = cv2.resize(gray_img, (600, 400), interpolation = cv2.INTER_CUBIC)\n",
    "\n",
    "    # Guardamos la imagen redimensionada para luego abrirla con PIL\n",
    "    cv2.imwrite('C:/Users/Jose Manuel/Pictures/temp.png', resized_img)\n",
    "\n",
    "    # Transformamos la imagen a un array de números mediante numpy\n",
    "    img1 = np.array(Image.open('C:/Users/Jose Manuel/Pictures/temp.png'))\n",
    "    text = pytesseract.image_to_string(img1)\n",
    "\n",
    "    print(text)"
   ]
  },
  {
   "cell_type": "code",
   "execution_count": 5,
   "id": "e4137e58-1831-469f-8ca9-cb976ab1ec2d",
   "metadata": {},
   "outputs": [],
   "source": [
    "#este codigo no va ya que baja la calidad del reconocimiento d ecaracteres\n",
    "#normalizamos la imagen para bjar la carga al proceso.\n",
    "    #norm_img = np.zeros((img1.shape[0], img1.shape[1]))\n",
    "    #img = cv2.normalize(img1, norm_img, 0, 255, cv2.NORM_MINMAX)\n",
    "\n",
    "    #aplicamos umbral a la imagen para eliminar el fondo\n",
    "    #img = cv2.threshold(img, 100, 255, cv2.THRESH_BINARY)[1]\n",
    "\n",
    "    #elimina el ruido de la imagen\n",
    "    #img = cv2.GaussianBlur(img, (1, 1), 0)\"\"\""
   ]
  },
  {
   "cell_type": "code",
   "execution_count": 6,
   "id": "9b49b950-a07b-4709-a093-944af42b2812",
   "metadata": {},
   "outputs": [
    {
     "name": "stdout",
     "output_type": "stream",
     "text": [
      "V_ 2.139.408\n",
      "\n"
     ]
    }
   ],
   "source": [
    "# Define las coordenadas de la región de interés (ROI)\n",
    "cedula = img1[70:100, 190:380]\n",
    "\n",
    "# Usa Pytesseract para extraer el texto de la ROI\n",
    "text = pytesseract.image_to_string(cedula)\n",
    "print(text)"
   ]
  },
  {
   "cell_type": "code",
   "execution_count": 7,
   "id": "6707db31-e95f-4ece-845b-c9ef590cc67c",
   "metadata": {},
   "outputs": [
    {
     "name": "stdout",
     "output_type": "stream",
     "text": [
      "ALCALA COROTHIE\n",
      "\n",
      "\n"
     ]
    }
   ],
   "source": [
    "apellidos = img1[90:130, 80:420]\n",
    "\n",
    "# Usa Pytesseract para extraer el texto de la ROI\n",
    "text = pytesseract.image_to_string(apellidos)\n",
    "print(text)"
   ]
  },
  {
   "cell_type": "code",
   "execution_count": 8,
   "id": "0341304c-ed6d-4e69-9aaf-02f6b35beaac",
   "metadata": {},
   "outputs": [
    {
     "name": "stdout",
     "output_type": "stream",
     "text": [
      "LUIS ENRIQUE\n",
      "\n"
     ]
    }
   ],
   "source": [
    "nombres = img1[120:160, 80:420]\n",
    "\n",
    "# Usa Pytesseract para extraer el texto de la ROI\n",
    "text = pytesseract.image_to_string(nombres)\n",
    "print(text)"
   ]
  },
  {
   "cell_type": "code",
   "execution_count": 9,
   "id": "217471fe-42de-4103-a605-a58051158c03",
   "metadata": {},
   "outputs": [
    {
     "name": "stdout",
     "output_type": "stream",
     "text": [
      "CASADO\n",
      "\n"
     ]
    }
   ],
   "source": [
    "edo_civil = img1[200:240, 245:380]\n",
    "\n",
    "# Usa Pytesseract para extraer el texto de la ROI\n",
    "text = pytesseract.image_to_string(edo_civil)\n",
    "print(text)"
   ]
  },
  {
   "cell_type": "code",
   "execution_count": 10,
   "id": "14b59db8-510d-4100-af0e-7bc01f4c1540",
   "metadata": {},
   "outputs": [
    {
     "name": "stdout",
     "output_type": "stream",
     "text": [
      "CASADO\n",
      "\n"
     ]
    }
   ],
   "source": [
    "edo_civil = img1[200:240, 245:380]\n",
    "\n",
    "# Usa Pytesseract para extraer el texto de la ROI\n",
    "text = pytesseract.image_to_string(edo_civil)\n",
    "print(text)"
   ]
  },
  {
   "cell_type": "code",
   "execution_count": 11,
   "id": "4fbeb692-4abd-4de6-9667-2a0dbe9063e7",
   "metadata": {},
   "outputs": [
    {
     "name": "stdout",
     "output_type": "stream",
     "text": [
      "11-01-41\n",
      "\n"
     ]
    }
   ],
   "source": [
    "f_nac = img1[200:240, 155:245]\n",
    "\n",
    "# Usa Pytesseract para extraer el texto de la ROI\n",
    "text = pytesseract.image_to_string(f_nac)\n",
    "print(text)"
   ]
  },
  {
   "cell_type": "code",
   "execution_count": null,
   "id": "822d2930-21c5-4667-b7b3-a3943eda8077",
   "metadata": {},
   "outputs": [],
   "source": []
  }
 ],
 "metadata": {
  "kernelspec": {
   "display_name": "Python 3 (ipykernel)",
   "language": "python",
   "name": "python3"
  },
  "language_info": {
   "codemirror_mode": {
    "name": "ipython",
    "version": 3
   },
   "file_extension": ".py",
   "mimetype": "text/x-python",
   "name": "python",
   "nbconvert_exporter": "python",
   "pygments_lexer": "ipython3",
   "version": "3.10.13"
  }
 },
 "nbformat": 4,
 "nbformat_minor": 5
}
